{
 "cells": [
  {
   "cell_type": "markdown",
   "metadata": {},
   "source": [
    "# A/B Test Analysis: Conversion Rate Comparison\n",
    "\n",
    "This notebook performs an A/B test analysis comparing conversion rates between two groups (A and B). \n",
    "We use a z-test for proportions to determine if the difference in conversion rates is statistically significant."
   ]
  },
  {
   "cell_type": "markdown",
   "metadata": {},
   "source": [
    "## Step 1: Import necessary libraries and load data\n",
    "\n",
    "- `pandas` for data handling\n",
    "- `proportions_ztest` from `statsmodels` to perform the z-test for proportions\n",
    "- Load the CSV data and inspect basic info"
   ]
  },
  {
   "cell_type": "code",
   "execution_count": 1,
   "metadata": {},
   "outputs": [
    {
     "name": "stdout",
     "output_type": "stream",
     "text": [
      "<class 'pandas.core.frame.DataFrame'>\n",
      "RangeIndex: 5000 entries, 0 to 4999\n",
      "Data columns (total 7 columns):\n",
      " #   Column      Non-Null Count  Dtype \n",
      "---  ------      --------------  ----- \n",
      " 0   User ID     5000 non-null   int64 \n",
      " 1   Group       5000 non-null   object\n",
      " 2   Page Views  5000 non-null   int64 \n",
      " 3   Time Spent  5000 non-null   int64 \n",
      " 4   Conversion  5000 non-null   object\n",
      " 5   Device      5000 non-null   object\n",
      " 6   Location    5000 non-null   object\n",
      "dtypes: int64(3), object(4)\n",
      "memory usage: 273.6+ KB\n",
      "First 5 rows:\n",
      "   User ID Group  Page Views  Time Spent Conversion   Device          Location\n",
      "0    14292     B           3         424         No   Mobile  Northern Ireland\n",
      "1    11682     A           9         342         No   Mobile          Scotland\n",
      "2    19825     A           2         396         No  Desktop  Northern Ireland\n",
      "3    16080     B           4         318         No  Desktop             Wales\n",
      "4    18851     A           1         338        Yes  Desktop          Scotland\n"
     ]
    }
   ],
   "source": [
    "import pandas as pd\n",
    "from statsmodels.stats.proportion import proportions_ztest\n",
    "\n",
    "# Load dataset\n",
    "csv_file = \"E:\\\\PythonProjects\\\\PA-Projects\\\\AB_Test_Analysis\\\\data\\\\ab_testing.csv\"\n",
    "df = pd.read_csv(csv_file)\n",
    "\n",
    "df.info()\n",
    "print(\"First 5 rows:\")\n",
    "print(df.head())"
   ]
  },
  {
   "cell_type": "markdown",
   "metadata": {},
   "source": [
    "## Step 2: Data preprocessing and conversion rate calculation\n",
    "\n",
    "- Filter data by groups A and B\n",
    "- Convert `Conversion` column from \"Yes\"/\"No\" to binary 1/0\n",
    "- Calculate mean conversion rate for each group"
   ]
  },
  {
   "cell_type": "code",
   "execution_count": 2,
   "metadata": {},
   "outputs": [
    {
     "name": "stdout",
     "output_type": "stream",
     "text": [
      "Conversion rate A: 0.0540\n",
      "Conversion rate B: 0.1407\n"
     ]
    }
   ],
   "source": [
    "# Extract groups and convert \"Yes\"/\"No\" to 1/0\n",
    "group_a = df[df['Group'] == 'A']['Conversion'].map({'Yes': 1, 'No': 0})\n",
    "group_b = df[df['Group'] == 'B']['Conversion'].map({'Yes': 1, 'No': 0})\n",
    "\n",
    "# Calculate conversion rates\n",
    "conv_rate_a = group_a.mean()\n",
    "conv_rate_b = group_b.mean()\n",
    "\n",
    "print(f\"Conversion rate A: {conv_rate_a:.4f}\")\n",
    "print(f\"Conversion rate B: {conv_rate_b:.4f}\")"
   ]
  },
  {
   "cell_type": "markdown",
   "metadata": {},
   "source": [
    "## Step 3: Perform z-test for difference in proportions\n",
    "\n",
    "- Define counts of conversions and total observations for each group\n",
    "- Use `proportions_ztest` to calculate the z-statistic and p-value\n",
    "- Interpret the results based on significance level (alpha = 0.05)"
   ]
  },
  {
   "cell_type": "code",
   "execution_count": 3,
   "metadata": {},
   "outputs": [
    {
     "name": "stdout",
     "output_type": "stream",
     "text": [
      "Z-statistic: -10.3545\n",
      "P-value: 0.0000\n",
      "Reject null hypothesis - significant difference found.\n"
     ]
    }
   ],
   "source": [
    "count = [group_a.sum(), group_b.sum()]\n",
    "nobs = [group_a.count(), group_b.count()]\n",
    "\n",
    "# Perform z-test for proportions\n",
    "stat, pval = proportions_ztest(count, nobs)\n",
    "\n",
    "print(f\"Z-statistic: {stat:.4f}\")\n",
    "print(f\"P-value: {pval:.4f}\")\n",
    "\n",
    "alpha = 0.05\n",
    "conclusion = \"Reject null hypothesis - significant difference found.\" if pval < alpha else \"Fail to reject null hypothesis - no significant difference.\"\n",
    "print(conclusion)"
   ]
  },
  {
   "cell_type": "markdown",
   "metadata": {},
   "source": [
    "## Step 4: Save the summarized results to CSV\n",
    "\n",
    "- Create results dictionary including all relevant stats\n",
    "- Check if output directory exists, create if not\n",
    "- Save results as CSV file for further review"
   ]
  },
  {
   "cell_type": "code",
   "execution_count": 4,
   "metadata": {},
   "outputs": [
    {
     "name": "stdout",
     "output_type": "stream",
     "text": [
      "Results saved to ab_test_summary.csv\n"
     ]
    }
   ],
   "source": [
    "import os\n",
    "\n",
    "output_dir = \"E:\\\\PythonProjects\\\\PA-Projects\\\\AB_Test_Analysis\\\\results\"\n",
    "if not os.path.exists(output_dir):\n",
    "    os.makedirs(output_dir)\n",
    "\n",
    "results = {\n",
    "    'Group': ['A', 'B'],\n",
    "    'Conversion Rate': [conv_rate_a, conv_rate_b],\n",
    "    'Conversions': count,\n",
    "    'Total Observations': nobs,\n",
    "    'Z-statistic': [stat, ''],\n",
    "    'P-value': [pval, ''],\n",
    "    'Conclusion': [conclusion, '']\n",
    "}\n",
    "\n",
    "results_df = pd.DataFrame(results)\n",
    "results_df.to_csv(os.path.join(output_dir, \"ab_test_summary.csv\"), index=False)\n",
    "print(\"Results saved to ab_test_summary.csv\")"
   ]
  }
 ],
 "metadata": {
  "kernelspec": {
   "display_name": "Python 3",
   "language": "python",
   "name": "python3"
  },
  "language_info": {
   "file_extension": ".py",
   "mimetype": "text/x-python",
   "name": "python",
   "version": "3.13.0"
  }
 },
 "nbformat": 4,
 "nbformat_minor": 5
}
